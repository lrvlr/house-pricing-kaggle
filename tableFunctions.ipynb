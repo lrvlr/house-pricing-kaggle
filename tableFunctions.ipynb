{
 "cells": [
  {
   "cell_type": "code",
   "execution_count": 1,
   "metadata": {},
   "outputs": [],
   "source": [
    "import numpy as np \n",
    "import pandas as pd \n",
    "from math import ceil"
   ]
  },
  {
   "cell_type": "code",
   "execution_count": 2,
   "metadata": {},
   "outputs": [],
   "source": [
    "def numTable(df, target):\n",
    "    '''\n",
    "    Given a dataframe with numerical variables df and a target variable in the dataframe,\n",
    "    returns statistical info about the dataframe, including skew, kurt, missing values, zero values and correlation to target variable\n",
    "    '''\n",
    "    desc = df.describe().T\n",
    "    skew = df.skew().T\n",
    "    kurt = df.kurt().T\n",
    "    rows = df.shape[0]\n",
    "    nulls = round(100 * df.isnull().sum()/rows,2)\n",
    "    nulls = nulls.T\n",
    "    uniq = df.nunique().T\n",
    "    corr = df.corr()[target].T\n",
    "    zero = round(100* (df == 0).astype(int).sum()/rows, 2)\n",
    "    \n",
    "    X = pd.concat([desc, skew, kurt, nulls, zero, uniq, corr], axis=1)\n",
    "    X.columns = ['Count', 'Mean', 'Std', 'Min', '25%', '50%', '75%', 'Max', 'Skew', 'Kurt', '% Missing', '% Zero', 'Nuniques','Corr']\n",
    "    X['Count']= round(X['Count'])\n",
    "    X.sort_values('Corr', ascending=False, inplace=True)\n",
    "    return X\n",
    "    \n",
    "    "
   ]
  },
  {
   "cell_type": "code",
   "execution_count": 3,
   "metadata": {},
   "outputs": [],
   "source": [
    "def catTable(df):\n",
    "    '''\n",
    "    Given a dataframe with categorical variables df\n",
    "    returns statistical info about the dataframe, \n",
    "    including missing values\n",
    "    '''\n",
    "    desc = df.astype(str).describe().T\n",
    "    rows = df.shape[0]\n",
    "    nulls = 100 * df.isnull().sum()/rows\n",
    "    nulls = nulls.T\n",
    "    \n",
    "    X = pd.concat([desc, nulls], axis=1)\n",
    "    X.columns = ['Count', 'Unique', 'Top', 'Freq', '% Missing']\n",
    "    X.sort_values('% Missing', ascending=False, inplace=True)\n",
    "    return X"
   ]
  },
  {
   "cell_type": "code",
   "execution_count": null,
   "metadata": {},
   "outputs": [],
   "source": []
  }
 ],
 "metadata": {
  "kernelspec": {
   "display_name": "Python 3",
   "language": "python",
   "name": "python3"
  },
  "language_info": {
   "codemirror_mode": {
    "name": "ipython",
    "version": 3
   },
   "file_extension": ".py",
   "mimetype": "text/x-python",
   "name": "python",
   "nbconvert_exporter": "python",
   "pygments_lexer": "ipython3",
   "version": "3.6.10"
  }
 },
 "nbformat": 4,
 "nbformat_minor": 4
}
