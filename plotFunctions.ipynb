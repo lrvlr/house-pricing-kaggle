{
 "cells": [
  {
   "cell_type": "code",
   "execution_count": 1,
   "metadata": {},
   "outputs": [
    {
     "name": "stderr",
     "output_type": "stream",
     "text": [
      "\n",
      "Bad key \"text.kerning_factor\" on line 4 in\n",
      "c:\\users\\lauri_almadeartista\\miniconda3\\envs\\cld-tp2\\lib\\site-packages\\matplotlib\\mpl-data\\stylelib\\_classic_test_patch.mplstyle.\n",
      "You probably need to get an updated matplotlibrc file from\n",
      "https://github.com/matplotlib/matplotlib/blob/v3.1.3/matplotlibrc.template\n",
      "or from the matplotlib source distribution\n"
     ]
    }
   ],
   "source": [
    "import numpy as np \n",
    "import pandas as pd \n",
    "import seaborn as sns\n",
    "import matplotlib.pyplot as plt\n",
    "import matplotlib as mpl\n",
    "from math import ceil"
   ]
  },
  {
   "cell_type": "code",
   "execution_count": 2,
   "metadata": {},
   "outputs": [],
   "source": [
    "def plotRegRes(df, var, target, ordr=1):\n",
    "    '''\n",
    "    Given a dataframe df, a feature name (str) var and the target name (str),\n",
    "    returns regression and residualplot for var vs. target feature in df.\n",
    "    Optional you can change the order of the regression. By default is 1\n",
    "    '''\n",
    "    regtitle = 'Regression Plot of ' + var + ' vs. ' + target\n",
    "    restitle = 'Residual Plot of ' + var + ' vs. ' + target\n",
    "    fig, (ax1, ax2) = plt.subplots(1,2, figsize=(15,5))\n",
    "    sns.regplot(data=df, x=var, y=target, ax=ax1, order=ordr)\n",
    "    ax1.set_title(regtitle)\n",
    "    sns.residplot(data=df, x=var, y=target, ax=ax2, order=ordr)\n",
    "    ax2.set_title(restitle)    \n",
    "    return fig\n",
    "\n",
    "\n",
    "def plotCatBox(df, var, target):\n",
    "    '''\n",
    "    Given a dataframe df, a categorical feature name (str) var and the target name (str),\n",
    "    returns a plot of boxplots by category against target sorted by median.\n",
    "    '''\n",
    "    title = 'Distribution of ' + target + ' by category of ' + var\n",
    "    sorted_ft = df.groupby([var])[target].median().sort_values()\n",
    "    width = len(list(sorted_ft.index)) * 2\n",
    "    plt.figure(figsize=(width,5))\n",
    "    ax = sns.boxplot(data=df, x=var, y=target, order=list(sorted_ft.index))\n",
    "    ax.set_title(title)\n",
    "    ax.tick_params('x',labelrotation=90)    \n",
    "    return ax"
   ]
  },
  {
   "cell_type": "code",
   "execution_count": 3,
   "metadata": {},
   "outputs": [],
   "source": [
    "def plotNumBoxList(df, numFt):\n",
    "    '''\n",
    "    Given a dataframe df and a list of numerical features\n",
    "    returns a figure composed of boxplots of each feature\n",
    "    '''\n",
    "    rows = ceil(len(numFt)/5)\n",
    "    h = 5 * rows\n",
    "    fig, axs = plt.subplots(rows, 5, figsize=(18,h))\n",
    "    for ft, ax in zip(numFt,axs.flatten()):\n",
    "        df[ft].plot(kind='box', ax=ax)\n",
    "        ax.set_title(ft)\n",
    "    return fig"
   ]
  },
  {
   "cell_type": "code",
   "execution_count": 4,
   "metadata": {},
   "outputs": [],
   "source": [
    "def plotBarCatList(df, catFt):\n",
    "    '''\n",
    "    Given a dataframe df and a list of categorical features\n",
    "    returns a figure composed of countplots of each categorical feature\n",
    "    '''\n",
    "    rows = ceil(len(catFt)/4)\n",
    "    h = 5 * rows\n",
    "    fig_cat, axs_cat = plt.subplots(rows, 4, figsize=(20,h))\n",
    " \n",
    "    for ft, ax in zip(catFt,axs_cat.flatten()):\n",
    "        pct_labels = round(100 * df[ft].value_counts(ascending=True) / df.shape[0], 2).astype(str) + '%'\n",
    "        rects = df[ft].value_counts(ascending=True).plot(kind='barh', ax=ax)\n",
    "        for rect, lab in zip(rects.patches, pct_labels):\n",
    "            width = int(rect.get_width())\n",
    "            if width > 200:\n",
    "                xloc = -5\n",
    "                clr = 'white'\n",
    "                align = 'right'\n",
    "            else:\n",
    "                xloc = 5\n",
    "                clr = 'black'\n",
    "                align = 'left'\n",
    "            yloc = rect.get_y() + rect.get_height() / 2\n",
    "            label = ax.annotate(lab, xy=(width, yloc), xytext=(xloc, 0),\n",
    "                                textcoords=\"offset points\",\n",
    "                                ha=align, va='center',\n",
    "                                color=clr, weight='bold', clip_on=True)\n",
    "        ax.set_title(ft)\n",
    "        ax.tick_params('x',labelrotation=90)\n",
    "    return fig_cat"
   ]
  },
  {
   "cell_type": "code",
   "execution_count": 5,
   "metadata": {},
   "outputs": [],
   "source": [
    "def pltHist(df, var, bins, ylabel, xlabel):\n",
    "    '''\n",
    "    Given a dataframe df a numerical feature var, the number of bins and the desired\n",
    "    x and y lables, plots a histogram of that var.\n",
    "    '''\n",
    "    count, binEdges = np.histogram(df[var], bins=bins)\n",
    "    ax = df[var].plot(kind='hist', xticks=binEdges, rot=90, figsize=(15,5), bins=bins)\n",
    "    plt.title('Histogram of %s' %(var))\n",
    "    plt.xlabel(xlabel)\n",
    "    plt.ylabel(ylabel)\n",
    "    return ax"
   ]
  },
  {
   "cell_type": "code",
   "execution_count": null,
   "metadata": {},
   "outputs": [],
   "source": []
  }
 ],
 "metadata": {
  "kernelspec": {
   "display_name": "Python 3",
   "language": "python",
   "name": "python3"
  },
  "language_info": {
   "codemirror_mode": {
    "name": "ipython",
    "version": 3
   },
   "file_extension": ".py",
   "mimetype": "text/x-python",
   "name": "python",
   "nbconvert_exporter": "python",
   "pygments_lexer": "ipython3",
   "version": "3.6.10"
  }
 },
 "nbformat": 4,
 "nbformat_minor": 4
}
