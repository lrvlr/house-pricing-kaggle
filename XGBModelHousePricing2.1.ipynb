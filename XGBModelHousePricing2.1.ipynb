{
 "cells": [
  {
   "cell_type": "code",
   "execution_count": 1,
   "metadata": {},
   "outputs": [],
   "source": [
    "import numpy as np\n",
    "import pandas as pd\n",
    "import seaborn as sns\n",
    "import matplotlib.pyplot as plt\n",
    "import matplotlib as mpl\n",
    "\n",
    "import ipynb.fs.full.CustomTransformersHP as ct\n",
    "import ipynb.fs.full.preprocessFunctions as pp"
   ]
  },
  {
   "cell_type": "code",
   "execution_count": 2,
   "metadata": {},
   "outputs": [],
   "source": [
    "test = pd.read_csv(\"test.csv\", index_col=\"Id\")\n",
    "train = pd.read_csv(\"train.csv\", index_col=\"Id\")"
   ]
  },
  {
   "cell_type": "markdown",
   "metadata": {},
   "source": [
    "After analyzing our data we ended up with the following ideas:"
   ]
  },
  {
   "cell_type": "code",
   "execution_count": 3,
   "metadata": {},
   "outputs": [],
   "source": [
    "outliers = [1299, 524, 935]\n",
    "dismiss = ['EnclosedPorch', 'MiscVal', 'BsmtHalfBath',\n",
    "           '3SsnPorch', 'PoolArea', 'ScreenPorch',\n",
    "           'Kitchen', 'PoolQC', 'MiscFeature', 'Alley',\n",
    "           'Fence', 'Utilities', 'LandSlope', 'Street',\n",
    "           'PoolQC', 'MiscFeature', 'Functional']\n",
    "\n",
    "catBivs = {'Conditions': ('Condition1', 'Condition2'),\n",
    " 'Roof': ('RoofStyle', 'RoofMatl'),\n",
    " 'Exterior': ('Exterior1st', 'Exterior2nd'),\n",
    " 'External': ('ExterQual', 'ExterCond'),\n",
    " 'Basement': ('BsmtQual', 'BsmtCond'),\n",
    " 'BasementFin': ('BsmtFinType1', 'BsmtFinType2'),\n",
    " 'Sale': ('SaleType', 'SaleCondition'),\n",
    " 'Garage': ('GarageQual', 'GarageCond'),\n",
    " 'GarageTF': ('GarageType', 'GarageFinish'),\n",
    " 'HeatingCond': ('Heating', 'HeatingQC'),\n",
    " 'Lot': ('LotShape', 'LotConfig')}\n",
    "\n",
    "numBivMult = {'LotFrontageOverArea': ('LotFrontage', 'LotArea'),\n",
    " 'YearsBTWbuiltAndRemod': ('YearRemodAdd', 'YearBuilt'),\n",
    " 'BsmtUnfPCT': ('BsmtUnfSF', 'TotalBsmtSF'),\n",
    " 'GrOverLotArea': ('GrLivArea', 'LotArea')}\n",
    "\n",
    "numBivBool = {'RemodAfter1984': ('YearRemodAdd', 1983),\n",
    " '2ndFlr': ('2ndFlrSF', 0),\n",
    " 'LowQualFin': ('LowQualFinSF', 0)}\n",
    "\n",
    "cbrt = ['MasVnrArea', 'WoodDeckSF', 'OpenPorchSF']\n",
    " \n",
    "log = ['LotFrontage', 'LotArea']\n",
    "\n",
    "logBiv = ['GrOverLotArea']\n",
    "cbrtBiv = ['BsmtUnfPCT']\n"
   ]
  },
  {
   "cell_type": "markdown",
   "metadata": {},
   "source": [
    "Now that we have analyzed our data, let's test it into a model.\n",
    "We need to make all the desired transformations both in the train set and the test set. So let's begin\n",
    "We'll rename the Bedroom and Kitchen column and eliminate outliers from train set"
   ]
  },
  {
   "cell_type": "code",
   "execution_count": 4,
   "metadata": {},
   "outputs": [],
   "source": [
    "pp.renameCols(train)\n",
    "pp.renameCols(test)"
   ]
  },
  {
   "cell_type": "markdown",
   "metadata": {},
   "source": [
    "Adding price by sf in neighborhood feature (https://towardsdatascience.com/feature-engineering-and-ensembled-models-for-the-top-10-in-kaggle-housing-prices-competition-efb35828eef0)\n",
    "did not improve the results"
   ]
  },
  {
   "cell_type": "code",
   "execution_count": 5,
   "metadata": {},
   "outputs": [],
   "source": [
    "# train['Sqr'] = train['SalePrice'] / train['LotArea']\n",
    "# train['Sqr'] = train.groupby('Neighborhood')['Sqr'].transform(lambda x: x.median())\n",
    "# d = {}\n",
    "# for indice_fila, x_train in train.iterrows():\n",
    "#     d.update({x_train['Neighborhood']:x_train['Sqr']})\n",
    "# test['Sqr'] = 0.00\n",
    "# for indice, x_test in test.iterrows():\n",
    "#     test.loc[test.index == indice ,'Sqr'] = d[x_test['Neighborhood']]"
   ]
  },
  {
   "cell_type": "markdown",
   "metadata": {},
   "source": [
    "We'll make a list of categorical variables and numerical variables and then create our transformers"
   ]
  },
  {
   "cell_type": "code",
   "execution_count": 6,
   "metadata": {},
   "outputs": [],
   "source": [
    "num = [col for col in train.select_dtypes(include='number').columns if col not in dismiss]\n",
    "cat = [col for col in train.select_dtypes(include='object').columns if col not in dismiss]\n",
    "\n",
    "catEnc = cat + ['Conditions', 'Roof', 'Exterior', 'External',\n",
    "                'Basement', 'BasementFin', 'Sale', 'Garage', 'GarageTF',\n",
    "                'HeatingCond', 'Lot']\n",
    "\n",
    "remove = ['Condition1', 'Condition2', 'RoofStyle', 'RoofMatl',\n",
    "          'Exterior1st', 'Exterior2nd', 'ExterQual', 'ExterCond',\n",
    "          'BsmtQual', 'BsmtCond', 'BsmtFinType1', 'BsmtFinType2',\n",
    "          'SaleType', 'SaleCondition', 'GarageQual', 'GarageCond',\n",
    "          'GarageType', 'GarageFinish', 'Heating', 'HeatingQC',\n",
    "          'LotShape', 'LotConfig']\n",
    "\n",
    "catEnc = [cat for cat in catEnc if cat not in remove]"
   ]
  },
  {
   "cell_type": "code",
   "execution_count": 7,
   "metadata": {},
   "outputs": [],
   "source": [
    "num.remove('SalePrice')"
   ]
  },
  {
   "cell_type": "code",
   "execution_count": 8,
   "metadata": {},
   "outputs": [],
   "source": [
    "cbe = ct.CatBoostCustom(cat=catEnc)\n",
    "cbi = ct.CatBivariates(features=catBivs)\n",
    "nbi = ct.NumBivariates(features=numBivMult)\n",
    "nbib = ct.NumBivariatesBool(features=numBivBool)\n",
    "lcr = ct.LogRtTransformer(log=log, cbrt=cbrt)\n",
    "lcrBivs = ct.LogRtTransformer(log=logBiv, cbrt=cbrtBiv)"
   ]
  },
  {
   "cell_type": "code",
   "execution_count": 9,
   "metadata": {},
   "outputs": [],
   "source": [
    "#Apply log to our target variable\n",
    "\n",
    "train['SalePrice'] = np.log(train['SalePrice'])"
   ]
  },
  {
   "cell_type": "markdown",
   "metadata": {},
   "source": [
    "Now we can create our pipeline with the transformers and our model"
   ]
  },
  {
   "cell_type": "code",
   "execution_count": 10,
   "metadata": {},
   "outputs": [],
   "source": [
    "#For hyperparameter search\n",
    "from sklearn.model_selection import GridSearchCV, train_test_split\n",
    "#For imputing values\n",
    "from sklearn.compose import ColumnTransformer\n",
    "from sklearn.pipeline import Pipeline\n",
    "from sklearn.impute import SimpleImputer\n",
    "from sklearn.preprocessing import PolynomialFeatures\n",
    "\n",
    "#Scaling data\n",
    "from sklearn.preprocessing import RobustScaler, Normalizer\n",
    "\n",
    "#Regressor\n",
    "from xgboost import XGBRegressor\n",
    "\n",
    "#metrics\n",
    "from sklearn.metrics import mean_squared_error\n",
    "\n",
    "\n",
    "X_train, X_test, y_train, y_test = train_test_split(train[num + cat],train['SalePrice'])\n",
    "\n",
    "# Preprocessing for numerical data\n",
    "numerical_transformer= Pipeline(steps=[\n",
    "            ('locb', lcr),\n",
    "            ('bivm', nbi),  #Create bivariates before imputing\n",
    "            ('bivb', nbib),\n",
    "            ('locbb', lcrBivs),\n",
    "            ('imputer', SimpleImputer()),\n",
    "            ('scaler', RobustScaler(quantile_range=(5.0, 95.0)))\n",
    "        ])\n",
    "\n",
    "# Preprocessing for categorical data\n",
    "categorical_transformer= Pipeline(steps=[\n",
    "            ('biv', cbi),\n",
    "            ('encoder', cbe),\n",
    "            ('imputer', SimpleImputer(strategy='constant', fill_value=-1)), #impute with mean after encoding else encoder can't select columns\n",
    "        ])\n",
    "\n",
    "preprocessor = ColumnTransformer(transformers=[\n",
    "        ('num', numerical_transformer, num),\n",
    "        ('cat', categorical_transformer, cat)\n",
    "        ]#,remainder='passthrough'\n",
    ")\n",
    "\n",
    "\n",
    "model = XGBRegressor(random_state=1, n_jobs=-1)\n",
    "\n",
    "pipe = Pipeline(steps=[('preprocessor', preprocessor),\n",
    "                              ('model', model)\n",
    "                             ]) \n",
    "\n",
    "# params_grid = { 'model__learning_rate': np.arange(0.01, 0.08, 0.01),\n",
    "#                 'model__n_estimators': [400, 500, 600, 675, 695]\n",
    "# }\n",
    "\n",
    "params_grid = { 'model__learning_rate': np.arange(0.01, 0.05, 0.01),\n",
    "                'model__n_estimators': [400, 695]\n",
    "}\n"
   ]
  },
  {
   "cell_type": "code",
   "execution_count": 11,
   "metadata": {},
   "outputs": [],
   "source": [
    "# df_data = pd.DataFrame.from_records(\n",
    "#     data=preprocessor.fit_transform(X_train, y_train)\n",
    "# )\n",
    "# df_data.head()"
   ]
  },
  {
   "cell_type": "code",
   "execution_count": 12,
   "metadata": {},
   "outputs": [
    {
     "name": "stdout",
     "output_type": "stream",
     "text": [
      "Fitting 5 folds for each of 8 candidates, totalling 40 fits\n"
     ]
    },
    {
     "name": "stderr",
     "output_type": "stream",
     "text": [
      "[Parallel(n_jobs=-1)]: Using backend LokyBackend with 4 concurrent workers.\n",
      "[Parallel(n_jobs=-1)]: Done  24 tasks      | elapsed:   27.3s\n",
      "[Parallel(n_jobs=-1)]: Done  40 out of  40 | elapsed:   47.0s finished\n",
      "C:\\Users\\lauri_almadeartista\\Miniconda3\\envs\\py37\\lib\\site-packages\\category_encoders\\utils.py:21: FutureWarning: is_categorical is deprecated and will be removed in a future version.  Use is_categorical_dtype instead\n",
      "  elif pd.api.types.is_categorical(cols):\n"
     ]
    },
    {
     "name": "stdout",
     "output_type": "stream",
     "text": [
      "Best parameter (CV score=0.900):\n",
      "{'model__learning_rate': 0.04, 'model__n_estimators': 695}\n",
      "RMSE: 0.12576040166600205\n"
     ]
    }
   ],
   "source": [
    "search1 = GridSearchCV(pipe, params_grid,cv=5, n_jobs=-1, verbose=3)\n",
    "search1.fit(X_train, y_train)\n",
    "print(\"Best parameter (CV score=%0.3f):\" % search1.best_score_)\n",
    "print(search1.best_params_)\n",
    "\n",
    "preds1 = search1.predict(X_test)\n",
    "score1 = mean_squared_error(y_test, preds1, squared=False)\n",
    "print('RMSE:', score1)\n",
    "\n",
    "#2.2 score\n",
    "# Best parameter (CV score=0.896):\n",
    "# {'model__learning_rate': 0.03, 'model__n_estimators': 695}\n",
    "# RMSE: 0.11940361998669048\n",
    "\n",
    "# Best parameter (CV score=0.895):\n",
    "# {'model__learning_rate': 0.060000000000000005, 'model__n_estimators': 400}\n",
    "# RMSE: 0.10750837063664301\n",
    "# KAGGLE 0.13365"
   ]
  },
  {
   "cell_type": "code",
   "execution_count": 14,
   "metadata": {},
   "outputs": [],
   "source": [
    "feature_importances = search1.best_estimator_.named_steps['model'].feature_importances_\n",
    "attr = num + ['LotFrontageOverArea', 'YearsBTWbuiltAndRemod', 'BsmtUnfPCT', 'GrOverLotArea', 'RemodAfter1984', '2ndFlr', 'LowQualFin'] + catEnc"
   ]
  },
  {
   "cell_type": "code",
   "execution_count": 17,
   "metadata": {},
   "outputs": [
    {
     "data": {
      "text/plain": [
       "[(0.19005175, 'KitchenQual'),\n",
       " (0.09780381, 'Garage'),\n",
       " (0.09421939, 'GrOverLotArea'),\n",
       " (0.078029655, 'GarageCars'),\n",
       " (0.07556239, 'Neighborhood'),\n",
       " (0.06544442, 'OverallQual'),\n",
       " (0.044862937, 'CentralAir'),\n",
       " (0.044433713, 'GarageTF'),\n",
       " (0.038598306, 'FireplaceQu'),\n",
       " (0.034205236, 'TotalBsmtSF'),\n",
       " (0.03408941, 'Basement'),\n",
       " (0.028024297, 'YearsBTWbuiltAndRemod'),\n",
       " (0.015430753, 'BsmtFinSF1'),\n",
       " (0.014932733, 'MSZoning'),\n",
       " (0.011074987, 'OverallCond'),\n",
       " (0.008979955, '1stFlrSF'),\n",
       " (0.008396079, 'Conditions'),\n",
       " (0.007476665, 'FullBath'),\n",
       " (0.0069506704, 'LandContour'),\n",
       " (0.006491297, 'GarageArea'),\n",
       " (0.0055178166, 'BasementFin'),\n",
       " (0.005457019, 'GrLivArea'),\n",
       " (0.005111319, 'Sale'),\n",
       " (0.0043622553, 'YearRemodAdd'),\n",
       " (0.004282508, 'BldgType'),\n",
       " (0.004226153, 'HalfBath'),\n",
       " (0.0040258546, 'BsmtExposure'),\n",
       " (0.003393792, 'External'),\n",
       " (0.0033171761, 'Fireplaces'),\n",
       " (0.0032223726, 'HeatingCond'),\n",
       " (0.0031861532, 'BsmtFullBath'),\n",
       " (0.0029651443, 'Bedroom'),\n",
       " (0.002879795, 'GarageYrBlt'),\n",
       " (0.0028473178, 'PavedDrive'),\n",
       " (0.0025776427, 'Exterior'),\n",
       " (0.00256858, '2ndFlrSF'),\n",
       " (0.0024584462, 'LotFrontageOverArea'),\n",
       " (0.0024322546, 'TotRmsAbvGrd'),\n",
       " (0.002374545, 'OpenPorchSF'),\n",
       " (0.0022409558, 'MoSold'),\n",
       " (0.0022101242, 'WoodDeckSF'),\n",
       " (0.0021817095, 'BsmtFinSF2'),\n",
       " (0.0021372573, 'Lot'),\n",
       " (0.0021301787, 'LowQualFinSF'),\n",
       " (0.0020170328, 'LotArea'),\n",
       " (0.0019055381, 'YearBuilt'),\n",
       " (0.0017850214, 'YrSold'),\n",
       " (0.0016204347, 'Roof'),\n",
       " (0.0015767874, 'Foundation'),\n",
       " (0.0015070743, 'HouseStyle'),\n",
       " (0.0011936646, 'BsmtUnfSF'),\n",
       " (0.0011870093, 'MasVnrArea'),\n",
       " (0.0010519753, 'Electrical'),\n",
       " (0.0010495858, 'BsmtUnfPCT'),\n",
       " (0.0008926757, 'LotFrontage'),\n",
       " (0.000653013, 'MasVnrType'),\n",
       " (0.00039530726, 'MSSubClass'),\n",
       " (0.0, 'RemodAfter1984'),\n",
       " (0.0, 'LowQualFin'),\n",
       " (0.0, '2ndFlr')]"
      ]
     },
     "execution_count": 17,
     "metadata": {},
     "output_type": "execute_result"
    }
   ],
   "source": [
    "sorted(zip(feature_importances, attr), reverse=True)"
   ]
  },
  {
   "cell_type": "code",
   "execution_count": null,
   "metadata": {},
   "outputs": [],
   "source": [
    "# best_model = XGBRegressor(random_state=1, n_jobs=-1, learning_rate=0.03, n_estimators=695)\n",
    "# pipe_bm = Pipeline(steps=[('preprocessor', preprocessor),\n",
    "#                                ('model', best_model)\n",
    "#                               ]) \n",
    "\n",
    "# pipe_bm.fit(train[num+cat], train['SalePrice'])\n",
    "\n",
    "# preds_bm = pipe_bm.predict(test[num+cat])\n",
    "\n",
    "# output = pd.DataFrame({'Id': test[num+cat].index,\n",
    "#                         'SalePrice': np.exp(preds_bm)})\n",
    "# output.to_csv('submission_2.2Last.csv', index=False)\n",
    "\n",
    "# # ##Kaggle score 2.2Last 0.13163"
   ]
  },
  {
   "cell_type": "code",
   "execution_count": null,
   "metadata": {},
   "outputs": [],
   "source": [
    "output.head()"
   ]
  },
  {
   "cell_type": "markdown",
   "metadata": {},
   "source": [
    "It's important to remember since we have applied log transformation to our target variable, our model will predict the log of the Sale Price, so if we want the actual Sale Price we need to inverse transform the predicted outputs!!"
   ]
  },
  {
   "cell_type": "code",
   "execution_count": null,
   "metadata": {},
   "outputs": [],
   "source": []
  },
  {
   "cell_type": "code",
   "execution_count": null,
   "metadata": {},
   "outputs": [],
   "source": []
  }
 ],
 "metadata": {
  "kernelspec": {
   "display_name": "Python 3",
   "language": "python",
   "name": "python3"
  },
  "language_info": {
   "codemirror_mode": {
    "name": "ipython",
    "version": 3
   },
   "file_extension": ".py",
   "mimetype": "text/x-python",
   "name": "python",
   "nbconvert_exporter": "python",
   "pygments_lexer": "ipython3",
   "version": "3.7.7"
  }
 },
 "nbformat": 4,
 "nbformat_minor": 4
}
