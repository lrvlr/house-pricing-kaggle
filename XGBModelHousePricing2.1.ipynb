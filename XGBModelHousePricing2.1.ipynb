{
 "cells": [
  {
   "cell_type": "code",
   "execution_count": 1,
   "metadata": {},
   "outputs": [],
   "source": [
    "import numpy as np\n",
    "import pandas as pd\n",
    "import seaborn as sns\n",
    "import matplotlib.pyplot as plt\n",
    "import matplotlib as mpl\n",
    "\n",
    "import ipynb.fs.full.CustomTransformersHP as ct\n",
    "import ipynb.fs.full.preprocessFunctions as pp"
   ]
  },
  {
   "cell_type": "code",
   "execution_count": 2,
   "metadata": {},
   "outputs": [],
   "source": [
    "test = pd.read_csv(\"test.csv\", index_col=\"Id\")\n",
    "train = pd.read_csv(\"train.csv\", index_col=\"Id\")"
   ]
  },
  {
   "cell_type": "markdown",
   "metadata": {},
   "source": [
    "After analyzing our data we ended up with the following ideas:"
   ]
  },
  {
   "cell_type": "code",
   "execution_count": 3,
   "metadata": {},
   "outputs": [],
   "source": [
    "outliers = [1299, 524, 935]\n",
    "dismiss = ['EnclosedPorch', 'MiscVal', 'BsmtHalfBath',\n",
    "           '3SsnPorch', 'PoolArea', 'ScreenPorch',\n",
    "           'Kitchen', 'PoolQC', 'MiscFeature', 'Alley',\n",
    "           'Fence', 'Utilities', 'LandSlope', 'Street',\n",
    "           'PoolQC', 'MiscFeature', 'Functional']\n",
    "\n",
    "catBivs = {'Conditions': ('Condition1', 'Condition2'),\n",
    " 'Roof': ('RoofStyle', 'RoofMatl'),\n",
    " 'Exterior': ('Exterior1st', 'Exterior2nd'),\n",
    " 'External': ('ExterQual', 'ExterCond'),\n",
    " 'Basement': ('BsmtQual', 'BsmtCond'),\n",
    " 'BasementFin': ('BsmtFinType1', 'BsmtFinType2'),\n",
    " 'Sale': ('SaleType', 'SaleCondition'),\n",
    " 'Garage': ('GarageQual', 'GarageCond'),\n",
    " 'GarageTF': ('GarageType', 'GarageFinish'),\n",
    " 'HeatingCond': ('Heating', 'HeatingQC'),\n",
    " 'Lot': ('LotShape', 'LotConfig')}\n",
    "\n",
    "numBivMult = {'LotFrontageOverArea': ('LotFrontage', 'LotArea'),\n",
    " 'YearsBTWbuiltAndRemod': ('YearRemodAdd', 'YearBuilt'),\n",
    " 'BsmtUnfPCT': ('BsmtUnfSF', 'TotalBsmtSF'),\n",
    " 'GrOverLotArea': ('GrLivArea', 'LotArea')}\n",
    "\n",
    "numBivBool = {'RemodAfter1984': ('YearRemodAdd', 1983),\n",
    " '2ndFlr': ('2ndFlrSF', 0),\n",
    " 'LowQualFin': ('LowQualFinSF', 0)}\n",
    "\n",
    "cbrt = ['MasVnrArea', 'WoodDeckSF', 'OpenPorchSF']\n",
    " \n",
    "log = ['LotFrontage', 'LotArea']\n",
    "\n",
    "logBiv = ['GrOverLotArea']\n",
    "cbrtBiv = ['BsmtUnfPCT']\n"
   ]
  },
  {
   "cell_type": "markdown",
   "metadata": {},
   "source": [
    "Now that we have analyzed our data, let's test it into a model.\n",
    "We need to make all the desired transformations both in the train set and the test set. So let's begin\n",
    "We'll rename the Bedroom and Kitchen column and eliminate outliers from train set"
   ]
  },
  {
   "cell_type": "code",
   "execution_count": 4,
   "metadata": {},
   "outputs": [],
   "source": [
    "pp.renameCols(train)\n",
    "pp.renameCols(test)"
   ]
  },
  {
   "cell_type": "markdown",
   "metadata": {},
   "source": [
    "We'll make a list of categorical variables and numerical variables and then create our transformers"
   ]
  },
  {
   "cell_type": "code",
   "execution_count": 5,
   "metadata": {},
   "outputs": [],
   "source": [
    "num = [col for col in train.select_dtypes(include='number').columns if col not in dismiss]\n",
    "cat = [col for col in train.select_dtypes(include='object').columns if col not in dismiss]\n",
    "\n",
    "catEnc = cat + ['Conditions', 'Roof', 'Exterior', 'External',\n",
    "                'Basement', 'BasementFin', 'Sale', 'Garage', 'GarageTF',\n",
    "                'HeatingCond', 'Lot']\n",
    "\n",
    "remove = ['Condition1', 'Condition2', 'RoofStyle', 'RoofMatl',\n",
    "          'Exterior1st', 'Exterior2nd', 'ExterQual', 'ExterCond',\n",
    "          'BsmtQual', 'BsmtCond', 'BsmtFinType1', 'BsmtFinType2',\n",
    "          'SaleType', 'SaleCondition', 'GarageQual', 'GarageCond',\n",
    "          'GarageType', 'GarageFinish', 'Heating', 'HeatingQC',\n",
    "          'LotShape', 'LotConfig']\n",
    "\n",
    "catEnc = [cat for cat in catEnc if cat not in remove]"
   ]
  },
  {
   "cell_type": "code",
   "execution_count": 6,
   "metadata": {},
   "outputs": [],
   "source": [
    "num.remove('SalePrice')"
   ]
  },
  {
   "cell_type": "code",
   "execution_count": 7,
   "metadata": {},
   "outputs": [],
   "source": [
    "cbe = ct.CatBoostCustom(cat=catEnc)\n",
    "cbi = ct.CatBivariates(features=catBivs)\n",
    "nbi = ct.NumBivariates(features=numBivMult)\n",
    "nbib = ct.NumBivariatesBool(features=numBivBool)\n",
    "lcr = ct.LogRtTransformer(log=log, cbrt=cbrt)\n",
    "lcrBivs = ct.LogRtTransformer(log=logBiv, cbrt=cbrtBiv)"
   ]
  },
  {
   "cell_type": "code",
   "execution_count": 8,
   "metadata": {},
   "outputs": [],
   "source": [
    "#Apply log to our target variable\n",
    "\n",
    "train['SalePrice'] = np.log(train['SalePrice'])"
   ]
  },
  {
   "cell_type": "markdown",
   "metadata": {},
   "source": [
    "Now we can create our pipeline with the transformers and our model"
   ]
  },
  {
   "cell_type": "code",
   "execution_count": 9,
   "metadata": {},
   "outputs": [],
   "source": [
    "#For hyperparameter search\n",
    "from sklearn.model_selection import GridSearchCV, train_test_split\n",
    "#For imputing values\n",
    "from sklearn.compose import ColumnTransformer\n",
    "from sklearn.pipeline import Pipeline\n",
    "from sklearn.impute import SimpleImputer\n",
    "from sklearn.preprocessing import PolynomialFeatures\n",
    "\n",
    "#Scaling data\n",
    "from sklearn.preprocessing import RobustScaler, Normalizer\n",
    "\n",
    "#Regressor\n",
    "from xgboost import XGBRegressor\n",
    "\n",
    "#metrics\n",
    "from sklearn.metrics import mean_squared_error\n",
    "\n",
    "\n",
    "X_train, X_test, y_train, y_test = train_test_split(train[num + cat],train['SalePrice'])\n",
    "\n",
    "# Preprocessing for numerical data\n",
    "numerical_transformer= Pipeline(steps=[\n",
    "            ('locb', lcr),\n",
    "            ('bivm', nbi),  #Create bivariates before imputing\n",
    "            ('bivb', nbib),\n",
    "            ('locbb', lcrBivs),\n",
    "            ('imputer', SimpleImputer()),\n",
    "            ('scaler', RobustScaler(quantile_range=(5.0, 95.0)))\n",
    "        ])\n",
    "\n",
    "# Preprocessing for categorical data\n",
    "categorical_transformer= Pipeline(steps=[\n",
    "            ('biv', cbi),\n",
    "            ('encoder', cbe),\n",
    "            ('imputer', SimpleImputer(strategy='constant', fill_value=-1)), #impute with mean after encoding else encoder can't select columns\n",
    "        ])\n",
    "\n",
    "preprocessor = ColumnTransformer(transformers=[\n",
    "        ('num', numerical_transformer, num),\n",
    "        ('cat', categorical_transformer, cat)\n",
    "        ]#,remainder='passthrough'\n",
    ")\n",
    "\n",
    "\n",
    "model = XGBRegressor(random_state=1, n_jobs=-1)\n",
    "\n",
    "pipe = Pipeline(steps=[('preprocessor', preprocessor),\n",
    "                              ('model', model)\n",
    "                             ]) \n",
    "\n",
    "params_grid = { 'model__learning_rate': np.arange(0.01, 0.08, 0.01),\n",
    "                'model__n_estimators': [400, 500, 600, 675, 680, 695, 700]\n",
    "}\n"
   ]
  },
  {
   "cell_type": "code",
   "execution_count": 10,
   "metadata": {},
   "outputs": [],
   "source": [
    "# df_data = pd.DataFrame.from_records(\n",
    "#     data=preprocessor.fit_transform(X_train, y_train)\n",
    "# )\n",
    "# df_data.head()"
   ]
  },
  {
   "cell_type": "code",
   "execution_count": 11,
   "metadata": {},
   "outputs": [
    {
     "name": "stdout",
     "output_type": "stream",
     "text": [
      "Fitting 5 folds for each of 56 candidates, totalling 280 fits\n"
     ]
    },
    {
     "name": "stderr",
     "output_type": "stream",
     "text": [
      "[Parallel(n_jobs=-1)]: Using backend LokyBackend with 4 concurrent workers.\n",
      "[Parallel(n_jobs=-1)]: Done  24 tasks      | elapsed:   32.6s\n",
      "[Parallel(n_jobs=-1)]: Done 120 tasks      | elapsed:  2.7min\n",
      "[Parallel(n_jobs=-1)]: Done 280 out of 280 | elapsed:  6.2min finished\n",
      "C:\\Users\\lauri_almadeartista\\Miniconda3\\envs\\py37\\lib\\site-packages\\category_encoders\\utils.py:21: FutureWarning: is_categorical is deprecated and will be removed in a future version.  Use is_categorical_dtype instead\n",
      "  elif pd.api.types.is_categorical(cols):\n"
     ]
    },
    {
     "name": "stdout",
     "output_type": "stream",
     "text": [
      "Best parameter (CV score=0.897):\n",
      "{'model__learning_rate': 0.060000000000000005, 'model__n_estimators': 400}\n",
      "RMSE: 0.12971202551169855\n"
     ]
    }
   ],
   "source": [
    "search1 = GridSearchCV(pipe, params_grid,cv=5, n_jobs=-1, verbose=3)\n",
    "search1.fit(X_train, y_train)\n",
    "print(\"Best parameter (CV score=%0.3f):\" % search1.best_score_)\n",
    "print(search1.best_params_)\n",
    "\n",
    "preds1 = search1.predict(X_test)\n",
    "score1 = mean_squared_error(y_test, preds1, squared=False)\n",
    "print('RMSE:', score1)\n",
    "\n",
    "\n",
    "# Best parameter (CV score=0.887):\n",
    "# {'model__learning_rate': 0.05, 'model__n_estimators': 400}\n",
    "# RMSE: 0.12164477481117247\n",
    "\n",
    "# Best parameter (CV score=0.903):\n",
    "# {'model__learning_rate': 0.04, 'model__n_estimators': 500}\n",
    "# RMSE: 0.13256410834961588\n",
    "\n",
    "# Best parameter (CV score=0.888):\n",
    "# {'model__learning_rate': 0.03, 'model__n_estimators': 600}\n",
    "# RMSE: 0.10040369745049361\n",
    "\n",
    "# Best parameter (CV score=0.885):\n",
    "# {'model__learning_rate': 0.06999999999999999, 'model__n_estimators': 650}\n",
    "# RMSE: 0.10991221426674046\n",
    "\n",
    "# Best parameter (CV score=0.900):\n",
    "# {'model__learning_rate': 0.05, 'model__n_estimators': 675}\n",
    "# RMSE: 0.14582261721881837\n",
    "\n",
    "# Best parameter (CV score=0.896):\n",
    "# {'model__learning_rate': 0.03, 'model__n_estimators': 695}\n",
    "# RMSE: 0.11940361998669048"
   ]
  },
  {
   "cell_type": "code",
   "execution_count": 14,
   "metadata": {},
   "outputs": [
    {
     "name": "stderr",
     "output_type": "stream",
     "text": [
      "C:\\Users\\lauri_almadeartista\\Miniconda3\\envs\\py37\\lib\\site-packages\\category_encoders\\utils.py:21: FutureWarning: is_categorical is deprecated and will be removed in a future version.  Use is_categorical_dtype instead\n",
      "  elif pd.api.types.is_categorical(cols):\n"
     ]
    },
    {
     "data": {
      "text/html": [
       "<div>\n",
       "<style scoped>\n",
       "    .dataframe tbody tr th:only-of-type {\n",
       "        vertical-align: middle;\n",
       "    }\n",
       "\n",
       "    .dataframe tbody tr th {\n",
       "        vertical-align: top;\n",
       "    }\n",
       "\n",
       "    .dataframe thead th {\n",
       "        text-align: right;\n",
       "    }\n",
       "</style>\n",
       "<table border=\"1\" class=\"dataframe\">\n",
       "  <thead>\n",
       "    <tr style=\"text-align: right;\">\n",
       "      <th></th>\n",
       "      <th>Id</th>\n",
       "      <th>SalePrice</th>\n",
       "    </tr>\n",
       "  </thead>\n",
       "  <tbody>\n",
       "    <tr>\n",
       "      <th>0</th>\n",
       "      <td>1461</td>\n",
       "      <td>125149.539062</td>\n",
       "    </tr>\n",
       "    <tr>\n",
       "      <th>1</th>\n",
       "      <td>1462</td>\n",
       "      <td>162096.921875</td>\n",
       "    </tr>\n",
       "    <tr>\n",
       "      <th>2</th>\n",
       "      <td>1463</td>\n",
       "      <td>188658.296875</td>\n",
       "    </tr>\n",
       "    <tr>\n",
       "      <th>3</th>\n",
       "      <td>1464</td>\n",
       "      <td>195777.171875</td>\n",
       "    </tr>\n",
       "    <tr>\n",
       "      <th>4</th>\n",
       "      <td>1465</td>\n",
       "      <td>180081.500000</td>\n",
       "    </tr>\n",
       "  </tbody>\n",
       "</table>\n",
       "</div>"
      ],
      "text/plain": [
       "     Id      SalePrice\n",
       "0  1461  125149.539062\n",
       "1  1462  162096.921875\n",
       "2  1463  188658.296875\n",
       "3  1464  195777.171875\n",
       "4  1465  180081.500000"
      ]
     },
     "execution_count": 14,
     "metadata": {},
     "output_type": "execute_result"
    }
   ],
   "source": [
    "best_model = XGBRegressor(random_state=1, n_jobs=-1, learning_rate=0.06, n_estimators=400)\n",
    "pipe_bm = Pipeline(steps=[('preprocessor', preprocessor),\n",
    "                               ('model', best_model)\n",
    "                              ]) \n",
    "\n",
    "pipe_bm.fit(train[num+cat], train['SalePrice'])\n",
    "\n",
    "preds_bm = pipe_bm.predict(test[num+cat])\n",
    "\n",
    "output = pd.DataFrame({'Id': test[num+cat].index,\n",
    "                        'SalePrice': np.exp(preds_bm)})\n",
    "output.to_csv('submission_2.2.csv', index=False)\n",
    "\n",
    "output.head()\n",
    "\n",
    "# ##Kaggle score 0.13156"
   ]
  },
  {
   "cell_type": "markdown",
   "metadata": {},
   "source": [
    "It's important to remember since we have applied log transformation to our target variable, our model will predict the log of the Sale Price, so if we want the actual Sale Price we need to inverse transform the predicted outputs!!"
   ]
  },
  {
   "cell_type": "code",
   "execution_count": 13,
   "metadata": {},
   "outputs": [
    {
     "data": {
      "text/plain": [
       "['MSSubClass',\n",
       " 'LotFrontage',\n",
       " 'LotArea',\n",
       " 'OverallQual',\n",
       " 'OverallCond',\n",
       " 'YearBuilt',\n",
       " 'YearRemodAdd',\n",
       " 'MasVnrArea',\n",
       " 'BsmtFinSF1',\n",
       " 'BsmtFinSF2',\n",
       " 'BsmtUnfSF',\n",
       " 'TotalBsmtSF',\n",
       " '1stFlrSF',\n",
       " '2ndFlrSF',\n",
       " 'LowQualFinSF',\n",
       " 'GrLivArea',\n",
       " 'BsmtFullBath',\n",
       " 'FullBath',\n",
       " 'HalfBath',\n",
       " 'Bedroom',\n",
       " 'TotRmsAbvGrd',\n",
       " 'Fireplaces',\n",
       " 'GarageYrBlt',\n",
       " 'GarageCars',\n",
       " 'GarageArea',\n",
       " 'WoodDeckSF',\n",
       " 'OpenPorchSF',\n",
       " 'MoSold',\n",
       " 'YrSold']"
      ]
     },
     "execution_count": 13,
     "metadata": {},
     "output_type": "execute_result"
    }
   ],
   "source": [
    "num"
   ]
  },
  {
   "cell_type": "code",
   "execution_count": null,
   "metadata": {},
   "outputs": [],
   "source": []
  }
 ],
 "metadata": {
  "kernelspec": {
   "display_name": "Python 3",
   "language": "python",
   "name": "python3"
  },
  "language_info": {
   "codemirror_mode": {
    "name": "ipython",
    "version": 3
   },
   "file_extension": ".py",
   "mimetype": "text/x-python",
   "name": "python",
   "nbconvert_exporter": "python",
   "pygments_lexer": "ipython3",
   "version": "3.7.7"
  }
 },
 "nbformat": 4,
 "nbformat_minor": 4
}
